{
  "nbformat": 4,
  "nbformat_minor": 0,
  "metadata": {
    "colab": {
      "provenance": []
    },
    "kernelspec": {
      "name": "python3",
      "display_name": "Python 3"
    },
    "language_info": {
      "name": "python"
    }
  },
  "cells": [
    {
      "cell_type": "markdown",
      "source": [
        "# Caso de estudio 3: Optimización de la producción en una fábrica\n",
        "\n",
        "Imagina que diriges una fábrica que produce varios productos, y cada producto tiene una demanda, un costo de producción y un precio de venta. Tu objetivo es maximizar el beneficio total, respetando las restricciones de capacidad de la fábrica y la demanda de cada producto.\n",
        "\n",
        "### Información con la que cuentas:\n",
        "- **Demanda**: Número máximo de unidades que se pueden vender de cada producto.\n",
        "- **Costo de producción**: Costo de producir una unidad de cada producto.\n",
        "- **Precio de venta**: Ingreso por vender una unidad de cada producto.\n",
        "- **Capacidad de producción**: Número máximo de unidades que la fábrica puede producir en total.\n",
        "\n",
        "El objetivo es determinar cuántas unidades de cada producto deben producirse para maximizar el beneficio total.\n",
        "\n",
        "### Representación de las soluciones\n",
        "\n",
        "- Cada solución se va a representar como una lista de números enteros que indica la cantidad de cada producto a producir.\n",
        "- Por ejemplo, `[10, 5, 3]` significa que se producen 10 unidades del producto 1, 5 unidades del producto 2, y 3 unidades del producto 3.\n",
        "\n",
        "\n"
      ],
      "metadata": {
        "id": "rpKK6GcwXwCg"
      }
    },
    {
      "cell_type": "code",
      "execution_count": null,
      "metadata": {
        "id": "VvQJbnxrW74e"
      },
      "outputs": [],
      "source": [
        "# Importación de bibliotecas\n",
        "import random\n",
        "import numpy as np\n",
        "import matplotlib.pyplot as plt"
      ]
    },
    {
      "cell_type": "markdown",
      "source": [
        "## Parámetros del Problema\n",
        "\n",
        "Definimos los parámetros del problema: demanda, costos, precios y capacidad de la fábrica.\n"
      ],
      "metadata": {
        "id": "Og4jdA7OYZpY"
      }
    },
    {
      "cell_type": "code",
      "source": [
        "demanda = [30, 45, 30]  # Demanda máxima de cada producto\n",
        "costos = [4, 6, 8]      # Costo de producción por unidad de cada producto\n",
        "precios = [10, 14, 20]  # Precio de venta por unidad de cada producto\n",
        "capacidad = 100          # Capacidad total de producción de la fábrica\n"
      ],
      "metadata": {
        "id": "0ZUeebU5YevP"
      },
      "execution_count": null,
      "outputs": []
    },
    {
      "cell_type": "markdown",
      "source": [
        "## Función de aptitud\n",
        "\n",
        "Calculamos el beneficio total de una solución y penalizamos aquellas que exceden la capacidad de producción."
      ],
      "metadata": {
        "id": "_WIJpB4kYkBY"
      }
    },
    {
      "cell_type": "code",
      "source": [
        "def calcular_aptitud(solucion, demanda, costos, precios, capacidad):\n",
        "    produccion_total = sum(solucion)\n",
        "    if produccion_total > capacidad:\n",
        "        return 0  # Penalización si se excede la capacidad\n",
        "\n",
        "    beneficio = sum((precios[i] - costos[i]) * min(solucion[i], demanda[i]) for i in range(len(solucion)))\n",
        "    return beneficio\n",
        "\n",
        "# Por ejemplo:\n",
        "solucion = [10, 5, 3]\n",
        "print(f\"Aptitud: {calcular_aptitud(solucion, demanda, costos, precios, capacidad)}\")\n"
      ],
      "metadata": {
        "colab": {
          "base_uri": "https://localhost:8080/"
        },
        "id": "YGu520P8Yz8z",
        "outputId": "224d2c4e-0fd6-45f6-8168-86110e3e7b97"
      },
      "execution_count": null,
      "outputs": [
        {
          "output_type": "stream",
          "name": "stdout",
          "text": [
            "Aptitud: 136\n"
          ]
        }
      ]
    },
    {
      "cell_type": "markdown",
      "source": [
        "## Actividad 1:\n",
        "- Agrega una segunda versión de la función de aptitud para que la penalización se realice con un factor multiplicativo $\\lambda$, como vimos en la clase.\n",
        "- Evalúa cómo afecta esto en la solución del problema de optimización, ¿Qué función de aptitud tuvo mejores resultados?"
      ],
      "metadata": {
        "id": "57c0-ODmZP1-"
      }
    },
    {
      "cell_type": "markdown",
      "source": [
        "## Inicialización de la población\n",
        "\n",
        "Generamos una población inicial de posibles soluciones aleatorias.\n"
      ],
      "metadata": {
        "id": "8vM0N-bnaOTQ"
      }
    },
    {
      "cell_type": "code",
      "source": [
        "def generar_poblacion(tamano_poblacion, num_productos, demanda):\n",
        "    poblacion = np.random.randint(demanda, size=(tamano_poblacion, num_productos))\n",
        "    return poblacion\n",
        "\n",
        "# Por ejemplo:\n",
        "poblacion_inicial = generar_poblacion(10, len(demanda), demanda)\n",
        "print(poblacion_inicial)"
      ],
      "metadata": {
        "colab": {
          "base_uri": "https://localhost:8080/"
        },
        "id": "M9SMYCphaM9m",
        "outputId": "07468480-ece4-4f57-8879-a15b1a45fe17"
      },
      "execution_count": null,
      "outputs": [
        {
          "output_type": "stream",
          "name": "stdout",
          "text": [
            "[[27 37 29]\n",
            " [12 19 17]\n",
            " [25 38  8]\n",
            " [ 2 21  3]\n",
            " [24  1  9]\n",
            " [ 7 34  7]\n",
            " [ 0  7  4]\n",
            " [10 18 20]\n",
            " [ 2 15 13]\n",
            " [16 28  7]]\n"
          ]
        }
      ]
    },
    {
      "cell_type": "markdown",
      "source": [
        "## Selección: Ruleta\n",
        "\n",
        "Seleccionamos soluciones probabilísticamente según su aptitud.\n"
      ],
      "metadata": {
        "id": "0gJf-Gr7T2Ln"
      }
    },
    {
      "cell_type": "code",
      "source": [
        "# Selección de padres\n",
        "def seleccion(poblacion, aptitudes):\n",
        "    total_aptitud = np.sum(aptitudes)\n",
        "\n",
        "    # Evitar división por cero si todas las aptitudes son cero\n",
        "    if total_aptitud == 0:\n",
        "        probabilidades = np.ones(len(poblacion)) / len(poblacion)\n",
        "    else:\n",
        "        probabilidades = aptitudes / total_aptitud\n",
        "\n",
        "    # Selecciona dos individuos con probabilidad proporcional a su aptitud\n",
        "    indices = np.random.choice(len(poblacion), size=2, p=probabilidades)\n",
        "    return [poblacion[i] for i in indices] # Return a list of selected individuals\n",
        "\n",
        "\n",
        "aptitudes = [calcular_aptitud(sol, demanda, costos, precios, capacidad) for sol in poblacion_inicial]\n",
        "padres = seleccion(poblacion_inicial, aptitudes)\n",
        "print(f\"Padres seleccionados: {padres}\")\n"
      ],
      "metadata": {
        "colab": {
          "base_uri": "https://localhost:8080/"
        },
        "id": "FzAXjmW8T1jA",
        "outputId": "0a1f6abb-5a36-4d77-f7ff-0b9b84570780"
      },
      "execution_count": null,
      "outputs": [
        {
          "output_type": "stream",
          "name": "stdout",
          "text": [
            "Padres seleccionados: [array([ 2, 15, 13]), array([10, 18, 20])]\n"
          ]
        }
      ]
    },
    {
      "cell_type": "markdown",
      "source": [
        "### Operador de cruce: cruce de un punto\n",
        "\n",
        "Elegimos un punto de cruce y combinamos dos soluciones para crear dos nuevas.\n"
      ],
      "metadata": {
        "id": "OGKqNaUxbXjC"
      }
    },
    {
      "cell_type": "code",
      "source": [
        "def cruce_punto_unico(padre1, padre2):\n",
        "    punto_cruce = np.random.randint(1, len(padre1))\n",
        "    hijo1 = np.concatenate((padre1[:punto_cruce], padre2[punto_cruce:]))\n",
        "    hijo2 = np.concatenate((padre2[:punto_cruce], padre1[punto_cruce:]))\n",
        "    return hijo1, hijo2\n",
        "\n",
        "padre1 = [10, 5, 3]\n",
        "padre2 = [3, 8, 15]\n",
        "hijo1, hijo2 = cruce_punto_unico(padre1, padre2)\n",
        "print(f\"Hijo 1: {hijo1}\")\n",
        "print(f\"Hijo 2: {hijo2}\")\n"
      ],
      "metadata": {
        "colab": {
          "base_uri": "https://localhost:8080/"
        },
        "id": "nCj14Tb_blE-",
        "outputId": "8461a82e-db44-4b41-ba92-c0a7d985c4b7"
      },
      "execution_count": null,
      "outputs": [
        {
          "output_type": "stream",
          "name": "stdout",
          "text": [
            "Hijo 1: [10  8 15]\n",
            "Hijo 2: [3 5 3]\n"
          ]
        }
      ]
    },
    {
      "cell_type": "markdown",
      "source": [
        "## Operador de mutación: mutación de desplazamiento\n",
        "\n",
        "Modificamos la cantidad de un producto.\n"
      ],
      "metadata": {
        "id": "xHeVXf-_bwiT"
      }
    },
    {
      "cell_type": "code",
      "source": [
        "def mutacion_creep(solucion, demanda, creep=2):\n",
        "    idx = np.random.randint(0, len(solucion) - 1)\n",
        "    solucion[idx] += np.random.choice([-1, 1])*creep\n",
        "    return np.clip(solucion, a_min=0, a_max=None)\n",
        "\n",
        "# mutacion de reajuste aleatorio\n",
        "\n",
        "solucion = [10, 5, 3]\n",
        "print(f\"Solución antes de mutación: {solucion}\")\n",
        "solucion_mutada = mutacion_creep(solucion, demanda)\n",
        "print(f\"Solución después de mutación: {solucion_mutada}\")\n"
      ],
      "metadata": {
        "colab": {
          "base_uri": "https://localhost:8080/"
        },
        "id": "vA0Bos6EcA21",
        "outputId": "3846bd36-441d-46e6-9aa1-e0d5eca58095"
      },
      "execution_count": null,
      "outputs": [
        {
          "output_type": "stream",
          "name": "stdout",
          "text": [
            "Solución antes de mutación: [10, 5, 3]\n",
            "Solución después de mutación: [10  7  3]\n"
          ]
        }
      ]
    },
    {
      "cell_type": "markdown",
      "source": [
        "## Actividad 2:\n",
        "- Implementa la mutación por reajuste aleatorio y compara los resultados al aplicar cada una sobre el algoritmo. ¿Qué mutación tuvo mejores resultados?"
      ],
      "metadata": {
        "id": "630FuFBVcUPv"
      }
    },
    {
      "cell_type": "markdown",
      "source": [
        "## Algoritmo Genético Completo"
      ],
      "metadata": {
        "id": "wVoerOkOZg4I"
      }
    },
    {
      "cell_type": "code",
      "source": [
        "def algoritmo_genetico(num_generaciones, tamano_poblacion, demanda, costos, precios, capacidad):\n",
        "    poblacion = generar_poblacion(tamano_poblacion, len(demanda), demanda)\n",
        "    for generacion in range(num_generaciones):\n",
        "        nueva_poblacion = []\n",
        "\n",
        "        aptitudes = [calcular_aptitud(sol, demanda, costos, precios, capacidad) for sol in poblacion]\n",
        "\n",
        "        for _ in range(tamano_poblacion // 2):\n",
        "            padres = seleccion(poblacion, aptitudes)\n",
        "            hijo1, hijo2 = cruce_punto_unico(padres[0], padres[1])\n",
        "            nueva_poblacion.append(mutacion_creep(hijo1, demanda))\n",
        "            nueva_poblacion.append(mutacion_creep(hijo2, demanda))\n",
        "        # Reemplazo parcial: seleccionar la mitad mejor de la población actual\n",
        "        mitad_poblacion_actual = np.argsort(aptitudes)[::-1][:tamano_poblacion // 2]\n",
        "        poblacion = np.concatenate((poblacion[mitad_poblacion_actual],\n",
        "                                   nueva_poblacion))\n",
        "\n",
        "        mejor_individuo = poblacion[np.argmax([calcular_aptitud(sol, demanda, costos, precios, capacidad) for sol in poblacion])]\n",
        "        mejor_aptitud = calcular_aptitud(mejor_individuo, demanda, costos, precios, capacidad)\n",
        "        print(f'Generación {generacion + 1}: Mejor aptitud = {mejor_aptitud}')\n",
        "\n",
        "    return mejor_individuo\n",
        "\n",
        "mejor_solucion = algoritmo_genetico(num_generaciones=50, tamano_poblacion=10, demanda=demanda, costos=costos, precios=precios, capacidad=capacidad)\n",
        "print(f\"Mejor solución: {mejor_solucion}\")\n"
      ],
      "metadata": {
        "colab": {
          "base_uri": "https://localhost:8080/"
        },
        "id": "VffQKla2Zi0E",
        "outputId": "abfbdd1e-95de-44da-b604-09e144fca456"
      },
      "execution_count": null,
      "outputs": [
        {
          "output_type": "stream",
          "name": "stdout",
          "text": [
            "Generación 1: Mejor aptitud = 666\n",
            "Generación 2: Mejor aptitud = 666\n",
            "Generación 3: Mejor aptitud = 804\n",
            "Generación 4: Mejor aptitud = 804\n",
            "Generación 5: Mejor aptitud = 820\n",
            "Mejor solución: [33 41 26]\n"
          ]
        }
      ]
    },
    {
      "cell_type": "markdown",
      "source": [
        "### Actividad 3:\n",
        "- Experimenta con el número de generaciones y el tamaño de la población. ¿Cómo afectan estos parámetros a la solución final?\n"
      ],
      "metadata": {
        "id": "2Com9v-KzurE"
      }
    },
    {
      "cell_type": "markdown",
      "source": [
        "Finalmente, visualizamos la cantidad óptima de producción de cada producto.\n"
      ],
      "metadata": {
        "id": "0d0BDGmk6GlP"
      }
    },
    {
      "cell_type": "code",
      "source": [
        "import matplotlib.pyplot as plt\n",
        "\n",
        "productos = ['Producto 1', 'Producto 2', 'Producto 3']\n",
        "plt.bar(productos, mejor_solucion)\n",
        "plt.title('Producción Óptima por Producto')\n",
        "plt.xlabel('Productos')\n",
        "plt.ylabel('Cantidad Producida')\n",
        "plt.show()\n"
      ],
      "metadata": {
        "colab": {
          "base_uri": "https://localhost:8080/",
          "height": 475
        },
        "id": "BFFwZnfJ6Fhy",
        "outputId": "217c4ee3-7966-4a77-db64-c13ba24127df"
      },
      "execution_count": null,
      "outputs": [
        {
          "output_type": "display_data",
          "data": {
            "text/plain": [
              "<Figure size 640x480 with 1 Axes>"
            ],
            "image/png": "[encoded data removed]"
          },
          "metadata": {}
        }
      ]
    }
  ]
}