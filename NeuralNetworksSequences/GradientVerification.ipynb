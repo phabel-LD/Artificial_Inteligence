{
 "cells": [
  {
   "cell_type": "code",
   "execution_count": 1,
   "id": "7554f33e",
   "metadata": {},
   "outputs": [],
   "source": [
    "import random\n",
    "\n",
    "import torch\n",
    "from torch import nn"
   ]
  },
  {
   "cell_type": "markdown",
   "id": "8c4c76c3-e284-4815-932d-9fb272a708f6",
   "metadata": {},
   "source": [
    "# Redes Neuronales Recurrentes: Cálculo de Gradientes"
   ]
  },
  {
   "cell_type": "markdown",
   "id": "9e9f70cd-d25f-4b6a-928e-885bb7a80e87",
   "metadata": {},
   "source": [
    "En el presente cuaderno de Jupyter, exploraremos la naturaleza y funcionalidad de las celdas recurrentes en las redes neuronales. De manera específica, analizaremos una configuración de dos celdas recurrentes básicas conectadas en serie y realizaremos el cálculo de sus gradientes de forma manual asumiendo una función de pérdida de entropía cruzada para un problema de clasificación. Posteriormente, contrastaremos nuestros cálculos manuales con una implementación de la red en PyTorch. En la siguiente imagen se muestra el diagrama de la red por analizar."
   ]
  },
  {
   "attachments": {
    "photo_2023-03-08_23-42-25.jpg": {
     "image/jpeg": "[encoded data removed]"
    }
   },
   "cell_type": "markdown",
   "id": "546cfa9d",
   "metadata": {},
   "source": [
    "![photo_2023-03-08_23-42-25.jpg](attachment:photo_2023-03-08_23-42-25.jpg)"
   ]
  },
  {
   "cell_type": "code",
   "execution_count": 2,
   "id": "6514c65c",
   "metadata": {},
   "outputs": [],
   "source": [
    "torch.manual_seed(0);"
   ]
  },
  {
   "cell_type": "code",
   "execution_count": 3,
   "id": "e8e44d15",
   "metadata": {},
   "outputs": [],
   "source": [
    "def random_one_hot_tensor(n: int) -> torch.FloatTensor:\n",
    "    \"\"\"Genera un tensor one-hot aleatorio de tamaño n. Un tensor one-hot es un tensor que contiene\n",
    "        principalmente ceros y tiene un único elemento con valor uno.\n",
    "\n",
    "    :param n: El tamaño del tensor one-hot a generar.\n",
    "    :return: Un tensor one-hot de tamaño n con un valor en un índice aleatorio igual a 1 \n",
    "             y el resto de los valores en 0.\n",
    "    \"\"\"\n",
    "    non_zero_index = random.randint(0, n - 1)\n",
    "    one_hot_tensor = torch.zeros(n, 1, dtype=torch.float32)\n",
    "    one_hot_tensor[non_zero_index] = 1\n",
    "    return one_hot_tensor"
   ]
  },
  {
   "cell_type": "code",
   "execution_count": 4,
   "id": "990caf57",
   "metadata": {},
   "outputs": [],
   "source": [
    "nh = 2  # Tamaño del estado oculto.\n",
    "nx = 2  # Tamaño del tensor de entrada.\n",
    "ny = 4  # Tamaño del tensor de salida\n",
    "\n",
    "# Inicialización de parámetro de la red de forma aleatoria.\n",
    "b = torch.rand(nh, 1, requires_grad=True)\n",
    "c = torch.rand(ny, 1, requires_grad=True)\n",
    "U = torch.rand(nh, nx, requires_grad=True)\n",
    "W = torch.rand(nh, nh, requires_grad=True)\n",
    "V = torch.rand(ny, nh, requires_grad=True)\n",
    "\n",
    "# Aunque en un contexto práctico no tiene sentido llevar el registro del gradiente con respecto a h0,\n",
    "# optaremos por realizarlo aquí con fines puramente educativos.\n",
    "h0 = torch.rand(nh, 1, requires_grad=True)\n",
    "\n",
    "# Definimos de forma aleatoria tanto la entrada como el objetivo (target) de cada celda.\n",
    "x1 = torch.rand(nx, 1)\n",
    "t1 = random_one_hot_tensor(n=ny)\n",
    "x2 = torch.rand(nx, 1)\n",
    "t2 = random_one_hot_tensor(n=ny)"
   ]
  },
  {
   "cell_type": "code",
   "execution_count": 5,
   "id": "14fc8824-9252-4e78-991b-85bf2867475a",
   "metadata": {},
   "outputs": [
    {
     "name": "stdout",
     "output_type": "stream",
     "text": [
      "t1: tensor([[0.],\n",
      "        [0.],\n",
      "        [1.],\n",
      "        [0.]])\n",
      "t2: tensor([[1.],\n",
      "        [0.],\n",
      "        [0.],\n",
      "        [0.]])\n"
     ]
    }
   ],
   "source": [
    "print(f\"t1: {t1}\")\n",
    "print(f\"t2: {t2}\")"
   ]
  },
  {
   "cell_type": "code",
   "execution_count": 6,
   "id": "3aa3eb3e",
   "metadata": {},
   "outputs": [],
   "source": [
    "# Propagación hacia adelante de la red.\n",
    "a1 = torch.matmul(W, h0) + torch.matmul(U, x1) + b\n",
    "h1 = nn.Tanh()(a1)\n",
    "o1 = torch.matmul(V, h1) + c\n",
    "y1 = nn.functional.softmax(o1, dim=0)\n",
    "# la función cross_entropy espera una entrada de dimensiones (N, C) en donde N es el tamaño de bache y C es el número de clases. En este caso,\n",
    "# transformamos o1 para cambiar su tamaño de (4, 1) a (1, 4). La función también espera como target un tensor de tamaño (N) que contiene\n",
    "# los índices de las clases objetivo.\n",
    "# https://pytorch.org/docs/stable/generated/torch.nn.CrossEntropyLoss.html\n",
    "# https://pytorch.org/docs/stable/generated/torch.argmax.html\n",
    "l1 = torch.nn.functional.cross_entropy(input=torch.reshape(o1, (1, ny)), target=torch.argmax(t1, dim=0))\n",
    "\n",
    "a2 = torch.matmul(W, h1) + torch.matmul(U, x2) + b\n",
    "h2 = nn.Tanh()(a2)\n",
    "o2 = torch.matmul(V, h2) + c\n",
    "y2 = nn.functional.softmax(o2, dim=0)\n",
    "l2 = torch.nn.functional.cross_entropy(input=torch.reshape(o2, (1, ny)), target=torch.argmax(t2, dim=0))\n",
    "\n",
    "loss = l1 + l2"
   ]
  },
  {
   "cell_type": "code",
   "execution_count": 7,
   "id": "58d10541-2592-41c7-91e0-f553f5440df2",
   "metadata": {},
   "outputs": [
    {
     "name": "stdout",
     "output_type": "stream",
     "text": [
      "a1.shape: torch.Size([2, 1])\n",
      "h1.shape: torch.Size([2, 1])\n",
      "o1.shape: torch.Size([4, 1])\n",
      "y1.shape: torch.Size([4, 1])\n",
      "a2.shape: torch.Size([2, 1])\n",
      "h2.shape: torch.Size([2, 1])\n",
      "o2.shape: torch.Size([4, 1])\n",
      "y2.shape: torch.Size([4, 1])\n",
      "loss: 4.114384651184082\n"
     ]
    }
   ],
   "source": [
    "print(f\"a1.shape: {a1.shape}\")\n",
    "print(f\"h1.shape: {h1.shape}\")\n",
    "print(f\"o1.shape: {o1.shape}\")\n",
    "print(f\"y1.shape: {y1.shape}\")\n",
    "print(f\"a2.shape: {a2.shape}\")\n",
    "print(f\"h2.shape: {h2.shape}\")\n",
    "print(f\"o2.shape: {o2.shape}\")\n",
    "print(f\"y2.shape: {y2.shape}\")\n",
    "print(f\"loss: {loss}\")"
   ]
  },
  {
   "cell_type": "code",
   "execution_count": 8,
   "id": "8840c2e5",
   "metadata": {},
   "outputs": [],
   "source": [
    "# Por defecto, PyTorch solo guarda los gradientes para los tensores hoja (leafe tensor) y elimina los otros para ahorrar memoria.\n",
    "# Un tensor hoja en PyTorch es un tensor que no es el resultado de una operación, es decir, un tensor que fue inicializado directamente\n",
    "# por el usuario. Por eso aquí, de manera explícita, le pedimos a PyTorch que guarde los gradientes de h1 y h2.\n",
    "h1.retain_grad()\n",
    "h2.retain_grad()"
   ]
  },
  {
   "cell_type": "code",
   "execution_count": 9,
   "id": "ec865be2",
   "metadata": {},
   "outputs": [],
   "source": [
    "# Propagación hacia atras de la red.\n",
    "loss.backward()"
   ]
  },
  {
   "cell_type": "markdown",
   "id": "92622c35",
   "metadata": {},
   "source": [
    "## Gradiente con respecto a c"
   ]
  },
  {
   "attachments": {
    "Screenshot%20from%202023-03-08%2023-06-45.png": {
     "image/png": "[encoded data removed]"
    }
   },
   "cell_type": "markdown",
   "id": "e4688b2f",
   "metadata": {},
   "source": [
    "![Screenshot%20from%202023-03-08%2023-06-45.png](attachment:Screenshot%20from%202023-03-08%2023-06-45.png)"
   ]
  },
  {
   "cell_type": "code",
   "execution_count": 10,
   "id": "cbfb4f9d",
   "metadata": {},
   "outputs": [
    {
     "data": {
      "text/plain": [
       "tensor([[-0.7289],\n",
       "        [ 0.5306],\n",
       "        [-0.7585],\n",
       "        [ 0.9569]])"
      ]
     },
     "execution_count": 10,
     "metadata": {},
     "output_type": "execute_result"
    }
   ],
   "source": [
    "c.grad"
   ]
  },
  {
   "cell_type": "code",
   "execution_count": 11,
   "id": "77b4737c",
   "metadata": {},
   "outputs": [
    {
     "data": {
      "text/plain": [
       "tensor([[-0.7289],\n",
       "        [ 0.5306],\n",
       "        [-0.7585],\n",
       "        [ 0.9569]], grad_fn=<AddBackward0>)"
      ]
     },
     "execution_count": 11,
     "metadata": {},
     "output_type": "execute_result"
    }
   ],
   "source": [
    "(y1 - t1) + (y2 - t2)"
   ]
  },
  {
   "cell_type": "markdown",
   "id": "44b7dbdc",
   "metadata": {},
   "source": [
    "## Gradiente con respecto a b"
   ]
  },
  {
   "attachments": {
    "Screenshot%20from%202023-03-08%2023-05-53.png": {
     "image/png": "[encoded data removed]"
    }
   },
   "cell_type": "markdown",
   "id": "14dffbbc",
   "metadata": {},
   "source": [
    "![Screenshot%20from%202023-03-08%2023-05-53.png](attachment:Screenshot%20from%202023-03-08%2023-05-53.png)"
   ]
  },
  {
   "cell_type": "code",
   "execution_count": 12,
   "id": "047b112d",
   "metadata": {},
   "outputs": [
    {
     "data": {
      "text/plain": [
       "tensor([[0.0899],\n",
       "        [0.1464]])"
      ]
     },
     "execution_count": 12,
     "metadata": {},
     "output_type": "execute_result"
    }
   ],
   "source": [
    "b.grad"
   ]
  },
  {
   "cell_type": "code",
   "execution_count": 13,
   "id": "1cdda280",
   "metadata": {},
   "outputs": [
    {
     "data": {
      "text/plain": [
       "tensor([[0.0899],\n",
       "        [0.1464]], grad_fn=<AddBackward0>)"
      ]
     },
     "execution_count": 13,
     "metadata": {},
     "output_type": "execute_result"
    }
   ],
   "source": [
    "(\n",
    "    torch.diag(h1.grad.squeeze()) @ (1 - h1 ** 2) +\n",
    "    torch.diag(h2.grad.squeeze()) @ (1 - h2 ** 2)\n",
    ")"
   ]
  },
  {
   "cell_type": "markdown",
   "id": "583fe15e",
   "metadata": {},
   "source": [
    "## Gradiente con respecto a h0, h1 y h2"
   ]
  },
  {
   "attachments": {
    "Screenshot%20from%202023-03-08%2023-02-47.png": {
     "image/png": "[encoded data removed]"
    }
   },
   "cell_type": "markdown",
   "id": "379020de",
   "metadata": {},
   "source": [
    "![Screenshot%20from%202023-03-08%2023-02-47.png](attachment:Screenshot%20from%202023-03-08%2023-02-47.png)"
   ]
  },
  {
   "cell_type": "code",
   "execution_count": 14,
   "id": "1ddd03df",
   "metadata": {},
   "outputs": [
    {
     "data": {
      "text/plain": [
       "tensor([[0.0210],\n",
       "        [0.0379]])"
      ]
     },
     "execution_count": 14,
     "metadata": {},
     "output_type": "execute_result"
    }
   ],
   "source": [
    "h0.grad"
   ]
  },
  {
   "cell_type": "code",
   "execution_count": 15,
   "id": "69967894",
   "metadata": {},
   "outputs": [
    {
     "data": {
      "text/plain": [
       "tensor([[0.0210],\n",
       "        [0.0379]], grad_fn=<MmBackward0>)"
      ]
     },
     "execution_count": 15,
     "metadata": {},
     "output_type": "execute_result"
    }
   ],
   "source": [
    "(W.T @ torch.diag((1 - h1 ** 2).squeeze())) @ h1.grad"
   ]
  },
  {
   "cell_type": "code",
   "execution_count": 16,
   "id": "95e84716",
   "metadata": {},
   "outputs": [
    {
     "data": {
      "text/plain": [
       "tensor([[0.4233],\n",
       "        [0.4955]])"
      ]
     },
     "execution_count": 16,
     "metadata": {},
     "output_type": "execute_result"
    }
   ],
   "source": [
    "h1.grad"
   ]
  },
  {
   "cell_type": "code",
   "execution_count": 17,
   "id": "a4964ac6",
   "metadata": {},
   "outputs": [
    {
     "data": {
      "text/plain": [
       "tensor([[0.4233],\n",
       "        [0.4955]], grad_fn=<AddBackward0>)"
      ]
     },
     "execution_count": 17,
     "metadata": {},
     "output_type": "execute_result"
    }
   ],
   "source": [
    "(W.T @ torch.diag((1 - h2 ** 2).squeeze())) @ h2.grad + (V.T @ (y1 - t1))"
   ]
  },
  {
   "cell_type": "code",
   "execution_count": 18,
   "id": "b6347e05",
   "metadata": {},
   "outputs": [
    {
     "data": {
      "text/plain": [
       "tensor([[0.2763],\n",
       "        [0.2356]])"
      ]
     },
     "execution_count": 18,
     "metadata": {},
     "output_type": "execute_result"
    }
   ],
   "source": [
    "h2.grad"
   ]
  },
  {
   "cell_type": "code",
   "execution_count": 19,
   "id": "f1e1c0a0",
   "metadata": {},
   "outputs": [
    {
     "data": {
      "text/plain": [
       "tensor([[0.2763],\n",
       "        [0.2356]], grad_fn=<MmBackward0>)"
      ]
     },
     "execution_count": 19,
     "metadata": {},
     "output_type": "execute_result"
    }
   ],
   "source": [
    "(V.T @ (y2 - t2))"
   ]
  },
  {
   "cell_type": "markdown",
   "id": "189494fb",
   "metadata": {},
   "source": [
    "## Gradiente con respecto a **W**"
   ]
  },
  {
   "attachments": {
    "Screenshot%20from%202023-03-07%2023-09-06.png": {
     "image/png": "[encoded data removed]"
    }
   },
   "cell_type": "markdown",
   "id": "39340a2c",
   "metadata": {},
   "source": [
    "![Screenshot%20from%202023-03-07%2023-09-06.png](attachment:Screenshot%20from%202023-03-07%2023-09-06.png)"
   ]
  },
  {
   "cell_type": "code",
   "execution_count": 20,
   "id": "4d97c65e",
   "metadata": {},
   "outputs": [
    {
     "data": {
      "text/plain": [
       "tensor([[0.0549, 0.0795],\n",
       "        [0.0856, 0.1293]])"
      ]
     },
     "execution_count": 20,
     "metadata": {},
     "output_type": "execute_result"
    }
   ],
   "source": [
    "W.grad"
   ]
  },
  {
   "cell_type": "code",
   "execution_count": 21,
   "id": "59dca209",
   "metadata": {},
   "outputs": [
    {
     "data": {
      "text/plain": [
       "tensor([[0.0549, 0.0795],\n",
       "        [0.0856, 0.1293]], grad_fn=<AddBackward0>)"
      ]
     },
     "execution_count": 21,
     "metadata": {},
     "output_type": "execute_result"
    }
   ],
   "source": [
    "(\n",
    "    torch.diag(h1.grad.squeeze()) @ (1 - h1 ** 2) @ h0.T +\n",
    "    torch.diag(h2.grad.squeeze()) @ (1 - h2 ** 2) @ h1.T\n",
    ")"
   ]
  },
  {
   "cell_type": "markdown",
   "id": "3a3f3525",
   "metadata": {},
   "source": [
    "## Gradiente con respecto a **U**"
   ]
  },
  {
   "attachments": {
    "Screenshot%20from%202023-03-08%2022-58-45.png": {
     "image/png": "[encoded data removed]"
    }
   },
   "cell_type": "markdown",
   "id": "0b527705",
   "metadata": {},
   "source": [
    "![Screenshot%20from%202023-03-08%2022-58-45.png](attachment:Screenshot%20from%202023-03-08%2022-58-45.png)"
   ]
  },
  {
   "cell_type": "code",
   "execution_count": 22,
   "id": "31fb59aa",
   "metadata": {},
   "outputs": [
    {
     "data": {
      "text/plain": [
       "tensor([[0.0567, 0.0313],\n",
       "        [0.0887, 0.0545]])"
      ]
     },
     "execution_count": 22,
     "metadata": {},
     "output_type": "execute_result"
    }
   ],
   "source": [
    "U.grad"
   ]
  },
  {
   "cell_type": "code",
   "execution_count": 23,
   "id": "f64dfdf7",
   "metadata": {},
   "outputs": [
    {
     "data": {
      "text/plain": [
       "tensor([[0.0567, 0.0313],\n",
       "        [0.0887, 0.0545]], grad_fn=<AddBackward0>)"
      ]
     },
     "execution_count": 23,
     "metadata": {},
     "output_type": "execute_result"
    }
   ],
   "source": [
    "(\n",
    "    torch.diag(h1.grad.squeeze()) @ (1 - h1 ** 2) @ x1.T +\n",
    "    torch.diag(h2.grad.squeeze()) @ (1 - h2 ** 2) @ x2.T\n",
    ")"
   ]
  },
  {
   "cell_type": "markdown",
   "id": "df58a465",
   "metadata": {},
   "source": [
    "## Gradiente con respecto a **V**"
   ]
  },
  {
   "attachments": {
    "Screenshot%20from%202023-03-08%2023-01-38.png": {
     "image/png": "[encoded data removed]"
    }
   },
   "cell_type": "markdown",
   "id": "f726bcf1",
   "metadata": {},
   "source": [
    "![Screenshot%20from%202023-03-08%2023-01-38.png](attachment:Screenshot%20from%202023-03-08%2023-01-38.png)"
   ]
  },
  {
   "cell_type": "code",
   "execution_count": 24,
   "id": "832c5c23",
   "metadata": {},
   "outputs": [
    {
     "data": {
      "text/plain": [
       "tensor([[-0.6801, -0.6431],\n",
       "        [ 0.4953,  0.4731],\n",
       "        [-0.7084, -0.6834],\n",
       "        [ 0.8933,  0.8534]])"
      ]
     },
     "execution_count": 24,
     "metadata": {},
     "output_type": "execute_result"
    }
   ],
   "source": [
    "V.grad"
   ]
  },
  {
   "cell_type": "code",
   "execution_count": 25,
   "id": "ee00b7ec",
   "metadata": {},
   "outputs": [
    {
     "data": {
      "text/plain": [
       "tensor([[-0.6801, -0.6431],\n",
       "        [ 0.4953,  0.4731],\n",
       "        [-0.7084, -0.6834],\n",
       "        [ 0.8933,  0.8534]], grad_fn=<AddBackward0>)"
      ]
     },
     "execution_count": 25,
     "metadata": {},
     "output_type": "execute_result"
    }
   ],
   "source": [
    "(y1 - t1) @ h1.T + (y2 - t2) @ h2.T"
   ]
  }
 ],
 "metadata": {
  "kernelspec": {
   "display_name": "Python 3 (ipykernel)",
   "language": "python",
   "name": "python3"
  },
  "language_info": {
   "codemirror_mode": {
    "name": "ipython",
    "version": 3
   },
   "file_extension": ".py",
   "mimetype": "text/x-python",
   "name": "python",
   "nbconvert_exporter": "python",
   "pygments_lexer": "ipython3",
   "version": "3.10.12"
  }
 },
 "nbformat": 4,
 "nbformat_minor": 5
}
